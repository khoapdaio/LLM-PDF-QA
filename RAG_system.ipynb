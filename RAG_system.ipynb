{
 "cells": [
  {
   "metadata": {},
   "cell_type": "code",
   "outputs": [],
   "execution_count": null,
   "source": [
    "!pip install -q transformers==4.41.2\n",
    "!pip install -q bitsandbytes==0.43.1\n",
    "!pip install -q accelerate==0.31.0\n",
    "!pip install -q langchain==0.2.5\n",
    "!pip install -q langchainhub==0.1.20\n",
    "!pip install -q langchain-openai==0.1.9\n",
    "!pip install -q langchain-chroma==0.1.1\n",
    "!pip install -q langchain-community==0.2.5\n",
    "!pip install -q langchain-huggingface==0.0.3\n",
    "!pip install -q python-dotenv==1.0.1\n",
    "!pip install -q pypdf==4.2.0\n",
    "!pip install -g localtunnel\n",
    "!pip install -q numpy"
   ],
   "id": "853a421176a1080c"
  },
  {
   "metadata": {},
   "cell_type": "code",
   "outputs": [],
   "execution_count": null,
   "source": [
    "import torch\n",
    "\n",
    "from transformers import BitsAndBytesConfig\n",
    "from transformers import AutoTokenizer, AutoModelForCausalLM, pipeline\n",
    "from langchain_huggingface import HuggingFaceEmbeddings\n",
    "from langchain_huggingface.llms import HuggingFacePipeline\n",
    "\n",
    "from langchain.memory import ConversationBufferMemory\n",
    "from langchain_community.chat_message_histories import ChatMessageHistory\n",
    "from langchain_community.document_loaders import PyPDFLoader, TextLoader\n",
    "from langchain.chains import ConversationalRetrievalChain\n",
    "from langchain_chroma import Chroma\n",
    "from langchain_text_splitters import RecursiveCharacterTextSplitter\n",
    "from langchain_core.runnables import RunnablePassthrough\n",
    "from langchain_core.output_parsers import StrOutputParser\n",
    "from langchain import hub"
   ],
   "id": "initial_id"
  },
  {
   "metadata": {},
   "cell_type": "code",
   "source": [
    "Loader = PyPDFLoader\n",
    "FILE_PATH = 'YOLOv10_Tutorials.pdf'\n",
    "loader = Loader(FILE_PATH)\n",
    "documents = loader.load()"
   ],
   "id": "8f9c8cc07a5fe0e1",
   "outputs": [],
   "execution_count": null
  },
  {
   "metadata": {},
   "cell_type": "code",
   "source": [
    "\n",
    "text_splitter = RecursiveCharacterTextSplitter(chunk_size=1000,\n",
    "                                                chunk_overlap=100)"
   ],
   "id": "2ec7eff79a4cd57e",
   "outputs": [],
   "execution_count": null
  },
  {
   "metadata": {},
   "cell_type": "code",
   "source": [
    "docs = text_splitter.split_documents(documents)\n",
    "\n",
    "print('Number of sub-documents: ', len(docs))\n",
    "print(docs[0])"
   ],
   "id": "9b509b143d0d791b",
   "outputs": [],
   "execution_count": null
  },
  {
   "metadata": {},
   "cell_type": "code",
   "source": "embedding = HuggingFaceEmbeddings()",
   "id": "10da5b134a1f74e8",
   "outputs": [],
   "execution_count": null
  },
  {
   "metadata": {},
   "cell_type": "code",
   "source": [
    "vector_db = Chroma.from_documents(documents=docs,\n",
    "                                  embedding=embedding)\n",
    "\n",
    "retriever = vector_db.as_retriever()"
   ],
   "id": "e53b308fdec7d5ea",
   "outputs": [],
   "execution_count": null
  },
  {
   "metadata": {},
   "cell_type": "code",
   "source": [
    "result = retriever.invoke('Hippocrates là ai?')\n",
    "\n",
    "print('Number of relevant documents: ', len(result))"
   ],
   "id": "aa8ac2cf15a1f5c7",
   "outputs": [],
   "execution_count": null
  },
  {
   "metadata": {},
   "cell_type": "code",
   "source": [
    "\n",
    "nf4_config = BitsAndBytesConfig(\n",
    "    load_in_4bit=True,\n",
    "    bnb_4bit_quant_type='nf4',\n",
    "    # bnb_4bit_use_doule_quant=True,\n",
    "    bnb_4bit_compute_dtype=torch.bfloat16\n",
    ")"
   ],
   "id": "75ea38a64d955cf",
   "outputs": [],
   "execution_count": null
  },
  {
   "metadata": {},
   "cell_type": "code",
   "source": [
    "MODEL_NAME = 'lmsys/vicuna-7b-v1.5'\n",
    "\n",
    "model = AutoModelForCausalLM.from_pretrained(\n",
    "    MODEL_NAME,\n",
    "    quantization_config=nf4_config,\n",
    "    low_cpu_mem_usage=True,\n",
    ")\n",
    "\n",
    "tokenizer = AutoTokenizer.from_pretrained(MODEL_NAME)"
   ],
   "id": "9486ca483d062537",
   "outputs": [],
   "execution_count": null
  },
  {
   "metadata": {},
   "cell_type": "code",
   "source": [
    "model_pipeline = pipeline(\n",
    "    'text-generation',\n",
    "    model=model,\n",
    "    tokenizer=tokenizer,\n",
    "    max_new_tokens=512,\n",
    "    pad_token_id=tokenizer.eos_token_id,\n",
    "    device_map='auto'\n",
    ")\n",
    "\n",
    "llm = HuggingFacePipeline(\n",
    "    pipeline=model_pipeline\n",
    ")"
   ],
   "id": "bf65a88ca1f10364",
   "outputs": [],
   "execution_count": null
  },
  {
   "metadata": {},
   "cell_type": "code",
   "source": [
    "prompt = hub.pull('rlm/rag-prompt')\n",
    "\n",
    "def format_docs(docs):\n",
    "    return '\\n\\n'.join(doc.page_content for doc in docs)\n",
    "\n",
    "rag_chain = (\n",
    "    {'context': retriever | format_docs, 'question': RunnablePassthrough()}\n",
    "    | prompt\n",
    "    | llm\n",
    "    | StrOutputParser()\n",
    ")\n",
    "\n",
    "USER_QUESTION = 'Hippocrates là ai?'\n",
    "output = rag_chain.invoke(USER_QUESTION)\n",
    "answer = output.split('Answer:')[1].strip()\n",
    "print(answer)"
   ],
   "id": "9c859ca92f20077",
   "outputs": [],
   "execution_count": null
  },
  {
   "metadata": {},
   "cell_type": "markdown",
   "source": "Xây dựng giao diện chat",
   "id": "41eeae5b10d6541b"
  },
  {
   "metadata": {},
   "cell_type": "code",
   "source": [
    "import chainlit as cl\n",
    "import torch\n",
    "from chainlit.types import AskFileResponse\n",
    "\n",
    "from transformers import BitsAndBytesConfig\n",
    "from transformers import AutoTokenizer , AutoModelForCausalLM , pipeline\n",
    "from langchain_huggingface.llms import HuggingFacePipeline\n",
    "\n",
    "from langchain.memory import ConversationBufferMemory\n",
    "from langchain_community.chat_message_histories import ChatMessageHistory\n",
    "from langchain.chains import ConversationalRetrievalChain\n",
    "\n",
    "from langchain_huggingface import HuggingFaceEmbeddings\n",
    "from langchain_chroma import Chroma\n",
    "from langchain_community.document_loaders import PyPDFLoader, TextLoader\n",
    "from langchain_text_splitters import RecursiveCharacterTextSplitter\n",
    "from langchain_core.runnables import RunnablePassthrough\n",
    "from langchain_core.output_parsers import StrOutputParser\n",
    "from langchain import hub"
   ],
   "id": "f6f41a412383a0a9",
   "outputs": [],
   "execution_count": null
  },
  {
   "metadata": {},
   "cell_type": "code",
   "source": [
    "text_splitter = RecursiveCharacterTextSplitter(chunk_size=1000,\n",
    "                                                chunk_overlap=100)\n",
    "embedding = HuggingFaceEmbeddings()"
   ],
   "id": "9a595dbb38c97b6c",
   "outputs": [],
   "execution_count": null
  },
  {
   "metadata": {},
   "cell_type": "code",
   "source": [
    "def process_file(file: AskFileResponse) :\n",
    "    if file.type == \"text/plain\":\n",
    "        Loader = TextLoader\n",
    "    elif file.type == \"application/pdf\":\n",
    "        Loader = PyPDFLoader\n",
    "\n",
    "    loader = Loader(file.path)\n",
    "    documents = loader.load()\n",
    "    docs = text_splitter.split_documents(documents)\n",
    "    for i, doc in enumerate(docs) :\n",
    "        doc.metadata[\"source\"] = f\"source_{i}\"\n",
    "    return docs"
   ],
   "id": "51c8ff8e64d5f119",
   "outputs": [],
   "execution_count": null
  },
  {
   "metadata": {},
   "cell_type": "code",
   "source": [
    "def get_vector_db(file: AskFileResponse) :\n",
    "    docs = process_file(file)\n",
    "    cl.user_session.set (\"docs\", docs)\n",
    "    vector_db = Chroma.from_documents(documents=docs,\n",
    "                                      embedding=embedding )\n",
    "    return vector_db"
   ],
   "id": "ce49b759c0afefb8",
   "outputs": [],
   "execution_count": null
  },
  {
   "metadata": {},
   "cell_type": "code",
   "source": [
    "\n",
    "def get_huggingface_llm(model_name: str = \"lmsys/vicuna-7b-v1.5\",\n",
    "                        max_new_token: int = 512):\n",
    "    nf4_config = BitsAndBytesConfig(\n",
    "        load_in_4bit=True,\n",
    "        bnb_4bit_quant_type =\"nf4\",\n",
    "        bnb_4bit_use_double_quant=True,\n",
    "        bnb_4bit_compute_dtype=torch.bfloat16\n",
    "    )\n",
    "    model = AutoModelForCausalLM.from_pretrained(\n",
    "        model_name,\n",
    "        quantization_config=nf4_config,\n",
    "        low_cpu_mem_usage=True\n",
    "    )\n",
    "    tokenizer = AutoTokenizer.from_pretrained(model_name)\n",
    "\n",
    "    model_pipeline = pipeline(\n",
    "        \"text-generation\",\n",
    "        model=model,\n",
    "        tokenizer=tokenizer,\n",
    "        max_new_tokens=max_new_token,\n",
    "        pad_token_id=tokenizer.eos_token_id,\n",
    "        device_map=\"auto\"\n",
    "    )\n",
    "\n",
    "    llm = HuggingFacePipeline(\n",
    "        pipeline = model_pipeline,\n",
    "    )\n",
    "    return llm\n",
    "\n",
    "LLM = get_huggingface_llm()"
   ],
   "id": "da0d5d8c22fa392c",
   "outputs": [],
   "execution_count": null
  },
  {
   "metadata": {},
   "cell_type": "code",
   "source": [
    "\n",
    "welcome_message = \"\"\"Welcome to the PDF QA! To get started :\n",
    "1. Upload a PDF or text file\n",
    "2. Ask a question about the file\n",
    "\"\"\""
   ],
   "id": "42c1ed1bf352bb9d",
   "outputs": [],
   "execution_count": null
  },
  {
   "metadata": {},
   "cell_type": "code",
   "source": [
    "\n",
    "@cl.on_chat_start\n",
    "async def on_chat_start():\n",
    "    files = None\n",
    "    while files is None:\n",
    "        files = await cl.AskFileMessage(\n",
    "            content=welcome_message ,\n",
    "            accept=[\"text/plain\", \"application/pdf\"] ,\n",
    "            max_size_mb=20,\n",
    "            timeout=180,\n",
    "        ).send()\n",
    "        file = files[0]\n",
    "\n",
    "    msg = cl.Message(content=f\"Processing'{file.name}'...\",\n",
    "                    disable_feedback=True)\n",
    "    await msg.send()\n",
    "\n",
    "    vector_db = await cl.make_async(get_vector_db)(file)\n",
    "\n",
    "    message_history = ChatMessageHistory()\n",
    "    memory = ConversationBufferMemory(\n",
    "        memory_key=\"chat_history\",\n",
    "        output_key=\"answer\",\n",
    "        chat_memory=message_history,\n",
    "        return_messages=True ,\n",
    "    )\n",
    "    retriever = vector_db.as_retriever(search_type=\"mmr\",\n",
    "    search_kwargs={'k':3})\n",
    "\n",
    "    chain = ConversationalRetrievalChain.from_llm(\n",
    "        llm=LLM,\n",
    "        chain_type=\"stuff\",\n",
    "        retriever=retriever,\n",
    "        memory=memory,\n",
    "        return_source_documents=True\n",
    "    )\n",
    "\n",
    "    msg.content = f\" '{file.name}'processed . You can now ask questions !\"\n",
    "    await msg.update()\n",
    "\n",
    "    cl.user_session.set(\"chain\", chain)"
   ],
   "id": "195151d0af89a13d",
   "outputs": [],
   "execution_count": null
  },
  {
   "metadata": {},
   "cell_type": "code",
   "source": [
    "\n",
    "@cl.on_message\n",
    "async def on_message(message: cl.Message):\n",
    "    chain = cl.user_session.get(\"chain\")\n",
    "    cb = cl.AsyncLangchainCallbackHandler()\n",
    "    res = await chain.ainvoke(message.content, callbacks=[cb])\n",
    "    answer = res[\"answer\"]\n",
    "    source_documents = res[\"source_documents\"]\n",
    "    text_elements = []\n",
    "\n",
    "    if source_documents:\n",
    "        for source_idx, source_doc in enumerate(source_documents):\n",
    "            source_name = f\"source_{source_idx}\"\n",
    "            text_elements.append(\n",
    "                cl.Text(content=source_doc.page_content,\n",
    "                        name=source_name)\n",
    "            )\n",
    "        source_names = [text_el.name for text_el in text_elements]\n",
    "\n",
    "        if source_names:\n",
    "            answer += f\"\\nSources:{','.join(source_names)}\"\n",
    "        else :\n",
    "            answer += \"\\nNo sources found\"\n",
    "\n",
    "    await cl.Message(content=answer, elements=text_elements).send()"
   ],
   "id": "ddc6b94e143ab90b",
   "outputs": [],
   "execution_count": null
  },
  {
   "metadata": {},
   "cell_type": "code",
   "source": [
    "\n",
    "!chainlit run app.py --host 0.0.0.0 --port 8000 &>/content/logs.txt &"
   ],
   "id": "caa9dfaf1c6106e4",
   "outputs": [],
   "execution_count": null
  },
  {
   "metadata": {},
   "cell_type": "code",
   "source": [
    "\n",
    "import urllib\n",
    "\n",
    "print(\"Password/Enpoint IP for localtunnel is:\",\n",
    "      urllib.request.urlopen('https://ipv4.icanhazip.com').read().decode('utf8').strip (\"\\n\"))"
   ],
   "id": "ac0adc19b2253f7e",
   "outputs": [],
   "execution_count": null
  },
  {
   "metadata": {},
   "cell_type": "code",
   "source": "!npm install -g localtunnel",
   "id": "98c6dbf0c487040e",
   "outputs": [],
   "execution_count": null
  },
  {
   "metadata": {},
   "cell_type": "code",
   "source": "!lt --port 8000 --subdomain aivn-simple-rag",
   "id": "f288f82cd37bdd97",
   "outputs": [],
   "execution_count": null
  }
 ],
 "metadata": {
  "kernelspec": {
   "display_name": "Python 3",
   "language": "python",
   "name": "python3"
  },
  "language_info": {
   "codemirror_mode": {
    "name": "ipython",
    "version": 2
   },
   "file_extension": ".py",
   "mimetype": "text/x-python",
   "name": "python",
   "nbconvert_exporter": "python",
   "pygments_lexer": "ipython2",
   "version": "2.7.6"
  }
 },
 "nbformat": 4,
 "nbformat_minor": 5
}
